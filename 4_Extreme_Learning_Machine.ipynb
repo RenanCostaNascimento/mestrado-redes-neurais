{
  "nbformat": 4,
  "nbformat_minor": 0,
  "metadata": {
    "colab": {
      "name": "4 - Extreme Learning Machine.ipynb",
      "provenance": [],
      "authorship_tag": "ABX9TyPplfZ/JWjY8Jm6KV9QYPCH",
      "include_colab_link": true
    },
    "kernelspec": {
      "name": "python3",
      "display_name": "Python 3"
    },
    "language_info": {
      "name": "python"
    }
  },
  "cells": [
    {
      "cell_type": "markdown",
      "metadata": {
        "id": "view-in-github",
        "colab_type": "text"
      },
      "source": [
        "<a href=\"https://colab.research.google.com/github/RenanCostaNascimento/mestrado-redes-neurais/blob/main/4_Extreme_Learning_Machine.ipynb\" target=\"_parent\"><img src=\"https://colab.research.google.com/assets/colab-badge.svg\" alt=\"Open In Colab\"/></a>"
      ]
    },
    {
      "cell_type": "code",
      "metadata": {
        "colab": {
          "base_uri": "https://localhost:8080/",
          "height": 296
        },
        "id": "Wr_30Bu9DGkO",
        "outputId": "73e0891e-4fdf-4685-f0e6-4642ef6ab491"
      },
      "source": [
        "import matplotlib.pyplot as plt\n",
        "import numpy as np\n",
        "from sklearn.datasets import make_blobs\n",
        "from sklearn.preprocessing import label_binarize\n",
        "\n",
        "def geradataset(tamanho=20, centros=[[0,0],[1,0],[1,1],[0,1]]):\n",
        "    X, y = make_blobs(n_samples=tamanho, centers=centros, cluster_std=0.2)\n",
        "    y = np.array(y%2, dtype=int)\n",
        "    return X, y\n",
        "\n",
        "def plotadataset(X, y):\n",
        "    plt.xlabel('X1')\n",
        "    plt.ylabel('X2')\n",
        "    for k in set(y):\n",
        "        plt.plot(X[:,0][y==k],X[:,1][y==k], \"o\", alpha=0.3)\n",
        "\n",
        "def plotahiperplano(vetor, bias=0, xmin=0, xmax=1):\n",
        "    xs = np.linspace(xmin, xmax, num=2)\n",
        "    ys = (-vetor[0] / vetor[1]) * xs - bias / vetor[1]\n",
        "    plt.plot(xs,ys)\n",
        "\n",
        "X, y = geradataset()\n",
        "plotadataset(X, y)\n",
        "plt.show()\n",
        "y"
      ],
      "execution_count": 13,
      "outputs": [
        {
          "output_type": "display_data",
          "data": {
            "image/png": "[encoded data removed]",
            "text/plain": [
              "<Figure size 432x288 with 1 Axes>"
            ]
          },
          "metadata": {
            "needs_background": "light"
          }
        },
        {
          "output_type": "execute_result",
          "data": {
            "text/plain": [
              "array([1, 0, 0, 1, 0, 1, 1, 1, 1, 1, 0, 0, 0, 0, 1, 1, 0, 0, 0, 1])"
            ]
          },
          "metadata": {},
          "execution_count": 13
        }
      ]
    },
    {
      "cell_type": "code",
      "metadata": {
        "id": "2TwSJFLzDLl1"
      },
      "source": [
        "class CustoPerceptron():\n",
        "    @staticmethod\n",
        "    def erro(y, ypred):\n",
        "        return y - ypred\n",
        "    @staticmethod\n",
        "    def custo(y, ypred):\n",
        "        return np.sum(CustoPerceptron.erro(y, ypred)**2)\n",
        "    @staticmethod\n",
        "    def gradiente(y, ypred, X):\n",
        "        return np.matmul(X.T, CustoPerceptron.erro(y, ypred))\n",
        "\n",
        "class Adaline():\n",
        "    def __init__(self):\n",
        "        self.preactivated = True\n",
        "    @staticmethod\n",
        "    def erro(y, ypred):\n",
        "        return y - ypred\n",
        "    @staticmethod\n",
        "    def custo(y, ypred):\n",
        "        return np.sum((1 - Adaline.erro(y, ypred))**2)\n",
        "    @staticmethod\n",
        "    def gradiente(y, ypred, X):\n",
        "        return np.matmul(X.T, Adaline.erro(y, ypred))"
      ],
      "execution_count": 14,
      "outputs": []
    },
    {
      "cell_type": "code",
      "metadata": {
        "id": "A7SaV8gXDNWl"
      },
      "source": [
        "class DescidaGradiente():\n",
        "    def __init__(self, custo=Adaline(), maxiter=1000, alpha=0.005):\n",
        "        self.custo = custo\n",
        "        self.maxiter = maxiter\n",
        "        self.alpha = alpha\n",
        "    \n",
        "    def getW(self, X, y, activation=lambda a: a):\n",
        "        w = np.random.uniform(-1, -1, size=(X.shape[1], y.shape[1]))\n",
        "        for _ in range(self.maxiter):\n",
        "            ypred = activation(np.matmul(X, w))\n",
        "            custo = self.custo.custo(y, ypred)\n",
        "            if custo == 0:\n",
        "                break\n",
        "            w = w + self.alpha * self.custo.gradiente(y, ypred, X)\n",
        "        return w\n",
        "\n",
        "class PseudoInversa():\n",
        "    def __init__(self):\n",
        "        pass\n",
        "    def getW(self, X, y):\n",
        "        pinv = np.linalg.pinv(X)\n",
        "        w = np.matmul(pinv, y)\n",
        "        return w"
      ],
      "execution_count": 15,
      "outputs": []
    },
    {
      "cell_type": "code",
      "metadata": {
        "id": "H5oPGP6vDRGR"
      },
      "source": [
        "from sklearn.base import BaseEstimator, ClassifierMixin\n",
        "from scipy.special import expit\n",
        "\n",
        "def tanh(a):\n",
        "    return expit(a) * 2 - 1\n",
        "\n",
        "class ExtremeLearningMachine(BaseEstimator, ClassifierMixin):\n",
        "    def __init__(self, algoritmo=PseudoInversa()):\n",
        "        self.wih = None\n",
        "        self.w = None\n",
        "        self.threshold = 0\n",
        "        self.activation = tanh\n",
        "        self.algoritmo = algoritmo\n",
        "    \n",
        "    @staticmethod\n",
        "    def includebias(X):\n",
        "        bias = np.ones((X.shape[0],1))\n",
        "        Xb = np.concatenate((bias,X), axis=1)\n",
        "        return Xb\n",
        "    \n",
        "    def fit(self, X, y):\n",
        "        self.wih = np.random.uniform(-1, 1, size=(X.shape[1],X.shape[0]//3))\n",
        "        Xh = np.matmul(X, self.wih)\n",
        "        Xho = self.activation(Xh)\n",
        "        X = ExtremeLearningMachine.includebias(Xho)\n",
        "        self.labels = list(set(y))\n",
        "        y = label_binarize(y, classes=self.labels)*2-1\n",
        "        if len(self.labels) == 2 :\n",
        "            y = y[:,0:1]\n",
        "        # treinamento\n",
        "        if hasattr(self.algoritmo, 'custo') and not (hasattr(self.algoritmo.custo, 'preactivated') and self.algoritmo.custo.preactivated):\n",
        "            self.w = self.algoritmo.getW(X, y, self.activation)\n",
        "        else:\n",
        "            self.w = self.algoritmo.getW(X, y)\n",
        "\n",
        "    def predict(self, X):\n",
        "        Xh = np.matmul(X, self.wih)\n",
        "        Xho = self.activation(Xh)\n",
        "        Xb = ExtremeLearningMachine.includebias(Xho)\n",
        "        a = np.matmul(Xb, self.w)\n",
        "        if self.w.shape[1] > 1:\n",
        "            idx = np.argmax(a, axis=1) \n",
        "        else:\n",
        "            idx = np.array(self.activation(a) > self.threshold, dtype=int)[:,0]\n",
        "        ypred = np.array([self.labels[i] for i in idx])\n",
        "        return ypred"
      ],
      "execution_count": 16,
      "outputs": []
    },
    {
      "cell_type": "code",
      "metadata": {
        "colab": {
          "base_uri": "https://localhost:8080/"
        },
        "id": "q7hVzqxLDSdF",
        "outputId": "19ad1b35-e8d5-4df5-a1f4-aa7da083b55b"
      },
      "source": [
        "# resubstituição\n",
        "elm = ExtremeLearningMachine()\n",
        "elm.fit(X, y)\n",
        "ypred = elm.predict(X)\n",
        "print(sum(y == ypred)/len(y))"
      ],
      "execution_count": 22,
      "outputs": [
        {
          "output_type": "stream",
          "text": [
            "1.0\n"
          ],
          "name": "stdout"
        }
      ]
    },
    {
      "cell_type": "markdown",
      "metadata": {
        "id": "iLTmHjRnM2YA"
      },
      "source": [
        "# Plotar a região de decisão de uma ELM"
      ]
    },
    {
      "cell_type": "code",
      "metadata": {
        "colab": {
          "base_uri": "https://localhost:8080/",
          "height": 349
        },
        "id": "japvTb_8Jb3n",
        "outputId": "d277b7b4-cf49-4259-de26-cab8a1b0cff8"
      },
      "source": [
        "from mlxtend.plotting import plot_decision_regions\n",
        "\n",
        "# plotando regiões\n",
        "plot_decision_regions(X, y, clf=elm, legend=2)\n",
        "\n",
        "plt.xlabel('X')\n",
        "plt.ylabel('Y')\n",
        "plt.title('Região de Decisão')\n",
        "plt.show()"
      ],
      "execution_count": 26,
      "outputs": [
        {
          "output_type": "stream",
          "text": [
            "/usr/local/lib/python3.7/dist-packages/mlxtend/plotting/decision_regions.py:244: MatplotlibDeprecationWarning: Passing unsupported keyword arguments to axis() will raise a TypeError in 3.3.\n",
            "  ax.axis(xmin=xx.min(), xmax=xx.max(), y_min=yy.min(), y_max=yy.max())\n"
          ],
          "name": "stderr"
        },
        {
          "output_type": "display_data",
          "data": {
            "image/png": "[encoded data removed]",
            "text/plain": [
              "<Figure size 432x288 with 1 Axes>"
            ]
          },
          "metadata": {
            "needs_background": "light"
          }
        }
      ]
    },
    {
      "cell_type": "markdown",
      "metadata": {
        "id": "FoWVIKsLNHpQ"
      },
      "source": [
        "# Testar a ELM com validação de treino e teste"
      ]
    },
    {
      "cell_type": "code",
      "metadata": {
        "colab": {
          "base_uri": "https://localhost:8080/"
        },
        "id": "tjIqpZvjNJK3",
        "outputId": "c0bdf48a-b5de-4baa-cd63-1b386a6a6e5d"
      },
      "source": [
        "# Teste com amostras fora do treinamento\n",
        "Xte, yte = geradataset(1000)\n",
        "ypred = elm.predict(Xte)\n",
        "print(sum(yte == ypred)/len(yte))"
      ],
      "execution_count": 27,
      "outputs": [
        {
          "output_type": "stream",
          "text": [
            "0.964\n"
          ],
          "name": "stdout"
        }
      ]
    },
    {
      "cell_type": "markdown",
      "metadata": {
        "id": "ZXt_vDOvNLmn"
      },
      "source": [
        "# Testar a ELM com validação cruzada"
      ]
    },
    {
      "cell_type": "code",
      "metadata": {
        "colab": {
          "base_uri": "https://localhost:8080/"
        },
        "id": "0jh42LW7NMZI",
        "outputId": "ea87567f-e559-40bb-8d30-4256ecd11e30"
      },
      "source": [
        "from sklearn.model_selection import train_test_split\n",
        "from sklearn import datasets\n",
        "\n",
        "X, y = datasets.load_iris(return_X_y=True)\n",
        "X_train, X_test, y_train, y_test = train_test_split(X, y, test_size=0.4, random_state=0)\n",
        "\n",
        "elm = ExtremeLearningMachine()\n",
        "elm.fit(X_train, y_train)\n",
        "ypred = elm.predict(X_test)\n",
        "print(sum(y_test == ypred)/len(y_test))"
      ],
      "execution_count": 28,
      "outputs": [
        {
          "output_type": "stream",
          "text": [
            "0.9333333333333333\n"
          ],
          "name": "stdout"
        }
      ]
    }
  ]
}